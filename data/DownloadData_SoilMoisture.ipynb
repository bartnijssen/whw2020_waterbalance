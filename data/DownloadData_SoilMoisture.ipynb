{
 "cells": [
  {
   "cell_type": "code",
   "execution_count": null,
   "metadata": {},
   "outputs": [],
   "source": [
    "from http.cookiejar import CookieJar\n",
    "from urllib.parse import urlencode\n",
    " \n",
    "import urllib.request as urllib2\n",
    "username = \"your_user\"\n",
    "password = \"your_password\"\n",
    "password_manager = urllib2.HTTPPasswordMgrWithDefaultRealm()\n",
    "password_manager.add_password(None, \"https://urs.earthdata.nasa.gov\", username, password)\n",
    "cookie_jar = CookieJar()\n",
    "opener = urllib2.build_opener(\n",
    "    urllib2.HTTPBasicAuthHandler(password_manager),\n",
    "    #urllib2.HTTPHandler(debuglevel=1),    # Uncomment these two lines to see\n",
    "    #urllib2.HTTPSHandler(debuglevel=1),   # details of the requests/responses\n",
    "    urllib2.HTTPCookieProcessor(cookie_jar))\n",
    "urllib2.install_opener(opener)"
   ]
  },
  {
   "cell_type": "code",
   "execution_count": null,
   "metadata": {},
   "outputs": [],
   "source": [
    "dataset_urls = []\n",
    "with open(\"subset_NLDAS_NOAH0125_M_002_20200902_213139.txt\", \"r\") as f:\n",
    "    t = f.read()\n",
    "    for l in t.split(\"\\n\"):\n",
    "        dataset_urls.append(l)\n",
    "    dataset_urls = dataset_urls[1:]"
   ]
  },
  {
   "cell_type": "code",
   "execution_count": null,
   "metadata": {},
   "outputs": [],
   "source": [
    "def download_file(url, name):\n",
    "    request = urllib2.Request(url)\n",
    "    response = urllib2.urlopen(request)\n",
    "    with open(\"downloaded/{}.nc4\".format(name), 'wb') as f:\n",
    "        f.write(response.read())"
   ]
  },
  {
   "cell_type": "code",
   "execution_count": null,
   "metadata": {},
   "outputs": [],
   "source": [
    "# cluncky way to get the year month from the url (it occurs just before .002.grb)\n",
    "def extract_datestr(url):\n",
    "    endstr = url.find(\".002.grb\")\n",
    "    return url[endstr-6:endstr]"
   ]
  },
  {
   "cell_type": "code",
   "execution_count": null,
   "metadata": {},
   "outputs": [],
   "source": [
    "for url in dataset_urls:\n",
    "    download_file(url, 'soilm_evap_{}'.format(extract_datestr(url)))"
   ]
  },
  {
   "cell_type": "code",
   "execution_count": null,
   "metadata": {},
   "outputs": [],
   "source": []
  }
 ],
 "metadata": {
  "kernelspec": {
   "display_name": "Python 3",
   "language": "python",
   "name": "python3"
  },
  "language_info": {
   "codemirror_mode": {
    "name": "ipython",
    "version": 3
   },
   "file_extension": ".py",
   "mimetype": "text/x-python",
   "name": "python",
   "nbconvert_exporter": "python",
   "pygments_lexer": "ipython3",
   "version": "3.7.8"
  }
 },
 "nbformat": 4,
 "nbformat_minor": 4
}
