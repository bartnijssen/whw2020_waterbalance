{
 "cells": [
  {
   "cell_type": "markdown",
   "metadata": {},
   "source": [
    "Water Balance Project\n",
    "1. Download soil moisture data"
   ]
  },
  {
   "cell_type": "code",
   "execution_count": null,
   "metadata": {},
   "outputs": [],
   "source": [
    "   # Set the URL string to point to a specific data URL. Some generic examples are:\n",
    "   #   https://servername/data/path/file\n",
    "   #   https://servername/opendap/path/file[.format[?subset]]\n",
    "   #   https://servername/daac-bin/OTF/HTTP_services.cgi?KEYWORD=value[&KEYWORD=value]\n",
    "   URL = 'your_URL_string_goes_here'\n",
    "   \n",
    "   # Set the FILENAME string to the data file name, the LABEL keyword value, or any customized name. \n",
    "   FILENAME = 'your_filename_string_goes_here'\n",
    "   \n",
    "   import requests\n",
    "   result = requests.get(URL)\n",
    "   try:\n",
    "      result.raise_for_status()\n",
    "      f = open(FILENAME,'wb')\n",
    "      f.write(result.content)\n",
    "      f.close()\n",
    "      print('contents of URL written to '+FILENAME)\n",
    "   except:\n",
    "      print('requests.get() returned an error code '+str(result.status_code))"
   ]
  },
  {
   "cell_type": "code",
   "execution_count": null,
   "metadata": {},
   "outputs": [],
   "source": []
  }
 ],
 "metadata": {
  "kernelspec": {
   "display_name": "Python [conda env:whw]",
   "language": "python",
   "name": "conda-env-whw-py"
  },
  "language_info": {
   "codemirror_mode": {
    "name": "ipython",
    "version": 3
   },
   "file_extension": ".py",
   "mimetype": "text/x-python",
   "name": "python",
   "nbconvert_exporter": "python",
   "pygments_lexer": "ipython3",
   "version": "3.6.11"
  }
 },
 "nbformat": 4,
 "nbformat_minor": 4
}
