{
 "cells": [
  {
   "cell_type": "markdown",
   "metadata": {},
   "source": [
    "## ET\n",
    "Calculate Potential Evapotranspiration for Lower Yakima Watershed (HUC8 Code = 17030003)\n",
    "Using FAO PENMAN-MONTEITH WITH ONLY MINIMUM AND MAXIMUM TEMPERATURE\n",
    "Equation from pg 8 of: \n",
    "https://farmwest.com/images/clientpdfs/FAO%20Penman-Monteith%20Equation%20for%20ET.pdf"
   ]
  },
  {
   "cell_type": "code",
   "execution_count": 14,
   "metadata": {},
   "outputs": [],
   "source": [
    "# Import libraries\n",
    "# Disclaimer: some of these libraries may be unused - imported just in case\n",
    "import warnings\n",
    "warnings.filterwarnings(\"ignore\")\n",
    "import matplotlib.pyplot as plt\n",
    "# Uncomment for jupyterhub notebook\n",
    "# %matplotlib inline \n",
    "import contextily as cx\n",
    "import folium\n",
    "import numpy as np\n",
    "import pandas as pd\n",
    "import geopandas as gpd\n",
    "from pyproj import CRS\n",
    "import xarray as xr\n",
    "import rioxarray\n",
    "import regionmask as rm\n",
    "from shapely.geometry import box\n",
    "from shapely.geometry import point \n",
    "import pynhd as nhd\n",
    "import pygeoogc as geoogc\n",
    "import pygeoutils as geoutils\n",
    "import hydrodata as hd\n",
    "import datetime"
   ]
  },
  {
   "cell_type": "code",
   "execution_count": 18,
   "metadata": {},
   "outputs": [
    {
     "ename": "DriverError",
     "evalue": "data/HUC8/HUC8-17030003.shp: No such file or directory",
     "output_type": "error",
     "traceback": [
      "\u001b[0;31m---------------------------------------------------------------------------\u001b[0m",
      "\u001b[0;31mCPLE_OpenFailedError\u001b[0m                      Traceback (most recent call last)",
      "\u001b[0;32mfiona/_shim.pyx\u001b[0m in \u001b[0;36mfiona._shim.gdal_open_vector\u001b[0;34m()\u001b[0m\n",
      "\u001b[0;32mfiona/_err.pyx\u001b[0m in \u001b[0;36mfiona._err.exc_wrap_pointer\u001b[0;34m()\u001b[0m\n",
      "\u001b[0;31mCPLE_OpenFailedError\u001b[0m: data/HUC8/HUC8-17030003.shp: No such file or directory",
      "\nDuring handling of the above exception, another exception occurred:\n",
      "\u001b[0;31mDriverError\u001b[0m                               Traceback (most recent call last)",
      "\u001b[0;32m<ipython-input-18-fefaf81d2319>\u001b[0m in \u001b[0;36m<module>\u001b[0;34m\u001b[0m\n\u001b[1;32m      1\u001b[0m \u001b[0;31m# Import Lower Yakima Shapefile\u001b[0m\u001b[0;34m\u001b[0m\u001b[0;34m\u001b[0m\u001b[0;34m\u001b[0m\u001b[0m\n\u001b[0;32m----> 2\u001b[0;31m \u001b[0mly_gdf\u001b[0m \u001b[0;34m=\u001b[0m \u001b[0mgpd\u001b[0m\u001b[0;34m.\u001b[0m\u001b[0mread_file\u001b[0m\u001b[0;34m(\u001b[0m\u001b[0;34m'data/HUC8/HUC8-17030003.shp'\u001b[0m\u001b[0;34m)\u001b[0m\u001b[0;34m\u001b[0m\u001b[0;34m\u001b[0m\u001b[0m\n\u001b[0m\u001b[1;32m      3\u001b[0m \u001b[0mprint\u001b[0m\u001b[0;34m(\u001b[0m\u001b[0mly_gdf\u001b[0m\u001b[0;34m.\u001b[0m\u001b[0mshape\u001b[0m\u001b[0;34m)\u001b[0m\u001b[0;34m\u001b[0m\u001b[0;34m\u001b[0m\u001b[0m\n\u001b[1;32m      4\u001b[0m \u001b[0mprint\u001b[0m\u001b[0;34m(\u001b[0m\u001b[0mly_gdf\u001b[0m\u001b[0;34m.\u001b[0m\u001b[0mhead\u001b[0m\u001b[0;34m(\u001b[0m\u001b[0;34m)\u001b[0m\u001b[0;34m)\u001b[0m\u001b[0;34m\u001b[0m\u001b[0;34m\u001b[0m\u001b[0m\n\u001b[1;32m      5\u001b[0m \u001b[0mly_gdf\u001b[0m\u001b[0;34m.\u001b[0m\u001b[0mplot\u001b[0m\u001b[0;34m(\u001b[0m\u001b[0;34m)\u001b[0m\u001b[0;34m\u001b[0m\u001b[0;34m\u001b[0m\u001b[0m\n",
      "\u001b[0;32m/opt/conda/lib/python3.7/site-packages/geopandas/io/file.py\u001b[0m in \u001b[0;36m_read_file\u001b[0;34m(filename, bbox, mask, rows, **kwargs)\u001b[0m\n\u001b[1;32m     94\u001b[0m \u001b[0;34m\u001b[0m\u001b[0m\n\u001b[1;32m     95\u001b[0m     \u001b[0;32mwith\u001b[0m \u001b[0mfiona_env\u001b[0m\u001b[0;34m(\u001b[0m\u001b[0;34m)\u001b[0m\u001b[0;34m:\u001b[0m\u001b[0;34m\u001b[0m\u001b[0;34m\u001b[0m\u001b[0m\n\u001b[0;32m---> 96\u001b[0;31m         \u001b[0;32mwith\u001b[0m \u001b[0mreader\u001b[0m\u001b[0;34m(\u001b[0m\u001b[0mpath_or_bytes\u001b[0m\u001b[0;34m,\u001b[0m \u001b[0;34m**\u001b[0m\u001b[0mkwargs\u001b[0m\u001b[0;34m)\u001b[0m \u001b[0;32mas\u001b[0m \u001b[0mfeatures\u001b[0m\u001b[0;34m:\u001b[0m\u001b[0;34m\u001b[0m\u001b[0;34m\u001b[0m\u001b[0m\n\u001b[0m\u001b[1;32m     97\u001b[0m \u001b[0;34m\u001b[0m\u001b[0m\n\u001b[1;32m     98\u001b[0m             \u001b[0;31m# In a future Fiona release the crs attribute of features will\u001b[0m\u001b[0;34m\u001b[0m\u001b[0;34m\u001b[0m\u001b[0;34m\u001b[0m\u001b[0m\n",
      "\u001b[0;32m/opt/conda/lib/python3.7/site-packages/fiona/env.py\u001b[0m in \u001b[0;36mwrapper\u001b[0;34m(*args, **kwargs)\u001b[0m\n\u001b[1;32m    398\u001b[0m     \u001b[0;32mdef\u001b[0m \u001b[0mwrapper\u001b[0m\u001b[0;34m(\u001b[0m\u001b[0;34m*\u001b[0m\u001b[0margs\u001b[0m\u001b[0;34m,\u001b[0m \u001b[0;34m**\u001b[0m\u001b[0mkwargs\u001b[0m\u001b[0;34m)\u001b[0m\u001b[0;34m:\u001b[0m\u001b[0;34m\u001b[0m\u001b[0;34m\u001b[0m\u001b[0m\n\u001b[1;32m    399\u001b[0m         \u001b[0;32mif\u001b[0m \u001b[0mlocal\u001b[0m\u001b[0;34m.\u001b[0m\u001b[0m_env\u001b[0m\u001b[0;34m:\u001b[0m\u001b[0;34m\u001b[0m\u001b[0;34m\u001b[0m\u001b[0m\n\u001b[0;32m--> 400\u001b[0;31m             \u001b[0;32mreturn\u001b[0m \u001b[0mf\u001b[0m\u001b[0;34m(\u001b[0m\u001b[0;34m*\u001b[0m\u001b[0margs\u001b[0m\u001b[0;34m,\u001b[0m \u001b[0;34m**\u001b[0m\u001b[0mkwargs\u001b[0m\u001b[0;34m)\u001b[0m\u001b[0;34m\u001b[0m\u001b[0;34m\u001b[0m\u001b[0m\n\u001b[0m\u001b[1;32m    401\u001b[0m         \u001b[0;32melse\u001b[0m\u001b[0;34m:\u001b[0m\u001b[0;34m\u001b[0m\u001b[0;34m\u001b[0m\u001b[0m\n\u001b[1;32m    402\u001b[0m             \u001b[0;32mif\u001b[0m \u001b[0misinstance\u001b[0m\u001b[0;34m(\u001b[0m\u001b[0margs\u001b[0m\u001b[0;34m[\u001b[0m\u001b[0;36m0\u001b[0m\u001b[0;34m]\u001b[0m\u001b[0;34m,\u001b[0m \u001b[0mstr\u001b[0m\u001b[0;34m)\u001b[0m\u001b[0;34m:\u001b[0m\u001b[0;34m\u001b[0m\u001b[0;34m\u001b[0m\u001b[0m\n",
      "\u001b[0;32m/opt/conda/lib/python3.7/site-packages/fiona/__init__.py\u001b[0m in \u001b[0;36mopen\u001b[0;34m(fp, mode, driver, schema, crs, encoding, layer, vfs, enabled_drivers, crs_wkt, **kwargs)\u001b[0m\n\u001b[1;32m    255\u001b[0m         \u001b[0;32mif\u001b[0m \u001b[0mmode\u001b[0m \u001b[0;32min\u001b[0m \u001b[0;34m(\u001b[0m\u001b[0;34m'a'\u001b[0m\u001b[0;34m,\u001b[0m \u001b[0;34m'r'\u001b[0m\u001b[0;34m)\u001b[0m\u001b[0;34m:\u001b[0m\u001b[0;34m\u001b[0m\u001b[0;34m\u001b[0m\u001b[0m\n\u001b[1;32m    256\u001b[0m             c = Collection(path, mode, driver=driver, encoding=encoding,\n\u001b[0;32m--> 257\u001b[0;31m                            layer=layer, enabled_drivers=enabled_drivers, **kwargs)\n\u001b[0m\u001b[1;32m    258\u001b[0m         \u001b[0;32melif\u001b[0m \u001b[0mmode\u001b[0m \u001b[0;34m==\u001b[0m \u001b[0;34m'w'\u001b[0m\u001b[0;34m:\u001b[0m\u001b[0;34m\u001b[0m\u001b[0;34m\u001b[0m\u001b[0m\n\u001b[1;32m    259\u001b[0m             \u001b[0;32mif\u001b[0m \u001b[0mschema\u001b[0m\u001b[0;34m:\u001b[0m\u001b[0;34m\u001b[0m\u001b[0;34m\u001b[0m\u001b[0m\n",
      "\u001b[0;32m/opt/conda/lib/python3.7/site-packages/fiona/collection.py\u001b[0m in \u001b[0;36m__init__\u001b[0;34m(self, path, mode, driver, schema, crs, encoding, layer, vsi, archive, enabled_drivers, crs_wkt, ignore_fields, ignore_geometry, **kwargs)\u001b[0m\n\u001b[1;32m    162\u001b[0m             \u001b[0;32mif\u001b[0m \u001b[0mself\u001b[0m\u001b[0;34m.\u001b[0m\u001b[0mmode\u001b[0m \u001b[0;34m==\u001b[0m \u001b[0;34m'r'\u001b[0m\u001b[0;34m:\u001b[0m\u001b[0;34m\u001b[0m\u001b[0;34m\u001b[0m\u001b[0m\n\u001b[1;32m    163\u001b[0m                 \u001b[0mself\u001b[0m\u001b[0;34m.\u001b[0m\u001b[0msession\u001b[0m \u001b[0;34m=\u001b[0m \u001b[0mSession\u001b[0m\u001b[0;34m(\u001b[0m\u001b[0;34m)\u001b[0m\u001b[0;34m\u001b[0m\u001b[0;34m\u001b[0m\u001b[0m\n\u001b[0;32m--> 164\u001b[0;31m                 \u001b[0mself\u001b[0m\u001b[0;34m.\u001b[0m\u001b[0msession\u001b[0m\u001b[0;34m.\u001b[0m\u001b[0mstart\u001b[0m\u001b[0;34m(\u001b[0m\u001b[0mself\u001b[0m\u001b[0;34m,\u001b[0m \u001b[0;34m**\u001b[0m\u001b[0mkwargs\u001b[0m\u001b[0;34m)\u001b[0m\u001b[0;34m\u001b[0m\u001b[0;34m\u001b[0m\u001b[0m\n\u001b[0m\u001b[1;32m    165\u001b[0m             \u001b[0;32melif\u001b[0m \u001b[0mself\u001b[0m\u001b[0;34m.\u001b[0m\u001b[0mmode\u001b[0m \u001b[0;32min\u001b[0m \u001b[0;34m(\u001b[0m\u001b[0;34m'a'\u001b[0m\u001b[0;34m,\u001b[0m \u001b[0;34m'w'\u001b[0m\u001b[0;34m)\u001b[0m\u001b[0;34m:\u001b[0m\u001b[0;34m\u001b[0m\u001b[0;34m\u001b[0m\u001b[0m\n\u001b[1;32m    166\u001b[0m                 \u001b[0mself\u001b[0m\u001b[0;34m.\u001b[0m\u001b[0msession\u001b[0m \u001b[0;34m=\u001b[0m \u001b[0mWritingSession\u001b[0m\u001b[0;34m(\u001b[0m\u001b[0;34m)\u001b[0m\u001b[0;34m\u001b[0m\u001b[0;34m\u001b[0m\u001b[0m\n",
      "\u001b[0;32mfiona/ogrext.pyx\u001b[0m in \u001b[0;36mfiona.ogrext.Session.start\u001b[0;34m()\u001b[0m\n",
      "\u001b[0;32mfiona/_shim.pyx\u001b[0m in \u001b[0;36mfiona._shim.gdal_open_vector\u001b[0;34m()\u001b[0m\n",
      "\u001b[0;31mDriverError\u001b[0m: data/HUC8/HUC8-17030003.shp: No such file or directory"
     ]
    }
   ],
   "source": [
    "# Import Lower Yakima Shapefile\n",
    "ly_gdf = gpd.read_file('data/HUC8/HUC8-17030003.shp')\n",
    "print(ly_gdf.shape)\n",
    "print(ly_gdf.head())\n",
    "ly_gdf.plot()"
   ]
  },
  {
   "cell_type": "code",
   "execution_count": null,
   "metadata": {},
   "outputs": [],
   "source": [
    "# Extract the outer bounding box coordinates of watershed (CRS= EPSG:3857)\n",
    "ly_bbox = gpd.GeoSeries(box(*ly_gdf.total_bounds), crs=ly_gdf.crs)"
   ]
  },
  {
   "cell_type": "code",
   "execution_count": null,
   "metadata": {},
   "outputs": [],
   "source": [
    "# Plot watershed within bounding box with basemap\n",
    "ly_ax = ly_bbox.plot(edgecolor=\"red\", facecolor='none', figsize=(9, 9))\n",
    "ly_gdf.plot(ax=ly_ax, edgecolor='black', facecolor='none')\n",
    "cx.add_basemap(ly_ax)"
   ]
  },
  {
   "cell_type": "code",
   "execution_count": null,
   "metadata": {},
   "outputs": [],
   "source": [
    "# Load csv of daily temperature [deg C] data from Yakima County 1/1/15 - 8/31/20\n",
    "# Source: https://www.ncdc.noaa.gov/cdo-web/\n",
    "# Documentation (including attribute codes): \n",
    "# https://www1.ncdc.noaa.gov/pub/data/cdo/documentation/GHCND_documentation.pdf\n",
    "T_csv = \"/Users/parisajune/Downloads/yakima_temp_20150101_20200831.csv\"\n",
    "T_df = pd.read_csv(T_csv)\n",
    "T_gdf = gpd.GeoDataFrame(T_df, geometry=gpd.points_from_xy(T_df.LONGITUDE, T_df.LATITUDE))"
   ]
  },
  {
   "cell_type": "code",
   "execution_count": null,
   "metadata": {},
   "outputs": [],
   "source": [
    "# Set CRS for simple geometry points \n",
    "T_gdf.crs = {'init' :'epsg:4326'} \n",
    "\n",
    "T_df_coord = T_df[['LATITUDE', 'LONGITUDE']]\n",
    "T_df_unique_coords = T_df_coord.drop_duplicates()\n",
    "T_gdf_unique_coords = gpd.GeoDataFrame(\n",
    "    T_df_unique_coords, geometry=gpd.points_from_xy(\n",
    "        T_df_unique_coords.LONGITUDE, T_df_unique_coords.LATITUDE))\n",
    "T_gdf_unique_coords.crs = {'init' :'epsg:4326'}  "
   ]
  },
  {
   "cell_type": "code",
   "execution_count": null,
   "metadata": {},
   "outputs": [],
   "source": [
    "# Extract the outer bounding box coordinates of temperature measurement locations\n",
    "T_bbox = gpd.GeoSeries(box(*T_gdf_unique_coords.total_bounds), crs=T_gdf_unique_coords.crs)"
   ]
  },
  {
   "cell_type": "code",
   "execution_count": null,
   "metadata": {},
   "outputs": [],
   "source": [
    "# Plot temperature data locations\n",
    "T_ax = T_bbox.to_crs(epsg=3857).plot(edgecolor=\"red\", facecolor='none', figsize=(9, 9))\n",
    "T_gdf_unique_coords.to_crs(epsg=3857).plot(ax=T_ax, edgecolor='purple', facecolor='none')\n",
    "cx.add_basemap(T_ax)"
   ]
  },
  {
   "cell_type": "code",
   "execution_count": null,
   "metadata": {},
   "outputs": [],
   "source": [
    "# Plot temperature data locations and watershed on same map\n",
    "T_ax = T_bbox.to_crs(epsg=3857).plot(edgecolor=\"red\", facecolor='none', figsize=(9, 9))\n",
    "T_gdf_unique_coords.to_crs(epsg=3857).plot(ax=T_ax, edgecolor='purple', facecolor='none')\n",
    "ly_gdf.plot(ax=T_ax, edgecolor='black', facecolor='none')\n",
    "cx.add_basemap(T_ax)"
   ]
  },
  {
   "cell_type": "code",
   "execution_count": null,
   "metadata": {},
   "outputs": [],
   "source": [
    "# Plot temperature data locations and watershed on same map\n",
    "T_ax = T_bbox.to_crs(epsg=3857).plot(edgecolor=\"red\", facecolor='none', figsize=(9, 9))\n",
    "T_gdf_unique_coords.to_crs(epsg=3857).plot(ax=T_ax, edgecolor='purple', facecolor='none')\n",
    "ly_gdf.plot(ax=T_ax, edgecolor='black', facecolor='none')\n",
    "cx.add_basemap(T_ax)"
   ]
  },
  {
   "cell_type": "code",
   "execution_count": null,
   "metadata": {},
   "outputs": [],
   "source": [
    "### TO DO! CHECK WHETHER YAKIMA COUNTY INCLUDES ALL OF LOWER YAKIMA WATERSHED!\n",
    "### (DOES NOT APPEAR TO FROM THIS LAST PLOT)\n",
    "### IF NECESSARY, DOWNLOAD THE *COMPLETE* TEMPERATURE DATASET\n",
    "### THEN WE NEED TO SCREEN OUT THE TEMPERATURE MEASUREMENTS THAT ARE OUTSIDE THE BASIN\n",
    "### I WILL CONTINUE USING THE CURRENT TEMPERATURE DATASET TO TEST THE BELOW CALCS\n",
    "\n",
    "\n",
    "### Calculate ET_o!\n",
    "## Data Required\n",
    "# Elevation [m]\n",
    "# Latitude [deg]\n",
    "# Min Temp [deg C]\n",
    "# Max Temp [deg C]\n",
    "# Classification as Coastal or Interior\n",
    "# Classification as Arid or Humid\n",
    "# Julian day"
   ]
  },
  {
   "cell_type": "code",
   "execution_count": null,
   "metadata": {},
   "outputs": [],
   "source": [
    "# Convert date strings into Julian days\n",
    "def datestdtojd (stddate):\n",
    "    fmt='%Y-%m-%d'\n",
    "    sdtdate = datetime.datetime.strptime(stddate, fmt)\n",
    "    sdtdate = sdtdate.timetuple()\n",
    "    jdate = sdtdate.tm_yday\n",
    "    return(jdate)\n",
    "T_gdf_clean_jd = T_gdf_clean['DATE'].apply(datestdtojd)\n",
    "T_gdf_clean['J'] = T_gdf_clean_jd "
   ]
  },
  {
   "cell_type": "code",
   "execution_count": null,
   "metadata": {},
   "outputs": [],
   "source": [
    "## Data Assumed or Constants\n",
    "# Wind Speed [m/s]\n",
    "ws = 2\n",
    "# Albedo or Canopy Reflection Coefficient\n",
    "a = 0.23\n",
    "# Solar Constant [MJ-2*min-1]\n",
    "G_sc = 0.082\n",
    "# Interior and Coastal Coefficients, K_Rs\n",
    "# Interior Coefficient = 0.16\n",
    "# Coastal Coefficient = 0.19\n",
    "# Yakima is east of the Cascade Mountains:\n",
    "K_Rs = 0.17\n",
    "# Region Coefficient, K_O [deg C]\n",
    "# Humid = 0, Arid = 2\n",
    "# Yakima has a semi-arid climate: \n",
    "K_O = 1.5"
   ]
  },
  {
   "cell_type": "code",
   "execution_count": null,
   "metadata": {},
   "outputs": [],
   "source": [
    "## Procedure\n",
    "# Calculate the daily mean air temperature [deg C], if not provided \n",
    "T_gdf_clean_avg = T_gdf_clean.TAVG.fillna((T_gdf.TMAX + T_gdf.TMIN)/2)\n",
    "T_gdf_clean['TAVG'] = T_gdf_clean_avg\n",
    "\n",
    "# Calculate actual vapor pressure [kPa]\n",
    "e_a = 0.6108 * np.exp((17.27*(T_gdf_clean.TMIN - K_O)) / \n",
    "                      ((T_gdf_clean.TMIN - K_O) + 237.3)\n",
    "                      )\n",
    "\n",
    "# Calculate saturated vapor pressure for TMAX [kPa]\n",
    "e_Tmax = 0.6108 * np.exp((17.27*T_gdf_clean.TMAX) / \n",
    "                      (T_gdf_clean.TMAX + 237.3)\n",
    "                      )\n",
    "\n",
    "# Calculate saturated vapor pressure for TMIN [kPa]\n",
    "e_Tmin = 0.6108 * np.exp((17.27*T_gdf_clean.TMIN) / \n",
    "                      (T_gdf_clean.TMIN + 237.3)\n",
    "                      )\n",
    "\n",
    "# Calculate saturated vapor pressure [kPa]\n",
    "e_s = (e_Tmin + e_Tmax)/2\n",
    "\n",
    "# Calculate inverse relative distance Earth-Sun [rad]\n",
    "d_r = 1 + 0.033 * np.cos(((2*np.pi / 365) * T_gdf_clean.J))\n",
    "\n",
    "# Convert latitude to radians\n",
    "lat_rad = (np.pi / 180) * T_gdf_clean.LATITUDE\n",
    "\n",
    "# Calculate solar declination [rad]\n",
    "solar_dec = 0.409 * np.sin(((2*np.pi / 365) * T_gdf_clean.J) - 1.39)\n",
    "\n",
    "# Calculate sunset hour angle [rad]\n",
    "angle_sunset = np.arccos(-np.tan(solar_dec) * np.tan(lat_rad))\n",
    "\n",
    "# Calculate extraterrestrial radiation [MJm-2 day-1] \n",
    "# NEED TO DOUBLE CHECK MATH ON THIS ONE \n",
    "R_a = (24 * 60 / np.pi) * G_sc * d_r * ((angle_sunset * np.sin(lat_rad) \n",
    "                                        * np.sin(solar_dec))\n",
    "                                        + (np.cos(lat_rad) \n",
    "                                        * np.cos(solar_dec)\n",
    "                                        * np.sin(angle_sunset)))\n",
    "\n",
    "# Calculate clear sky solar radiation [MJm-2 day-1] \n",
    "R_so = (0.75 + (2 * 10**-5) * T_gdf_clean.ELEVATION) * R_a\n",
    "\n",
    "# Calculate solar radiation [MJm-2 day-1]\n",
    "R_s = K_Rs * R_a * (T_gdf_clean.TMAX - T_gdf_clean.TMIN)**0.5\n",
    "\n",
    "# Calculate net longwave radiation [MJm-2 day-1] \n",
    "# NEED TO DOUBLE CHECK MATH ON THIS ONE \n",
    "sigma = 4.903 * 10**-9 #MJK-4m-2day-1 \n",
    "R_nl = sigma * 0.5 * ((T_gdf_clean.TMAX + 273.16)**4 + \n",
    "                      (T_gdf_clean.TMIN + 273.16)**4) * (0.34 - 0.14*(e_a**0.5)) * (1.35 * (R_s / R_so) - 0.35)\n",
    "\n",
    "# Calculate net solar radiation [MJm-2 day-1] \n",
    "R_ns = (1-0.23) * R_s\n",
    "\n",
    "# Calculate net radiation [MJm-2 day-1] \n",
    "R_n = R_ns - R_nl\n",
    "\n",
    "# Calculate slope vapor pressure [kPa °C-1] \n",
    "slope_vp = (2504 * np.exp((17.27*T_gdf_clean.TAVG) / (T_gdf_clean.TAVG + 237.3))) / ((T_gdf_clean.TAVG + 237.3)**2)\n",
    "\n",
    "# Calculate atmospheric pressure [kPa] \n",
    "P = 101.3 * (((293 - 0.0065 * T_gdf_clean.ELEVATION) / 293)**5.26)\n",
    "\n",
    "# Calculate psychometric constant [kPa °C-1] \n",
    "psy = (0.665 * 10**-3) * P\n",
    "\n",
    "# Calculate evapotranspiration!!!!!!!!!!!!!!!!!!!!!!!!!!!!!!!!!!!!!!!!!!!!\n",
    "# NOTE: Where wind data in not available, use a value that is greater than or equal to 0.5 m/s in the ET_o equation.\n",
    "# The average worldwide value used as a temporary estimate is 2 m/s. \n",
    "u2 = 2\n",
    "ET_o = (0.408 * slope_vp * R_n + psy * (900 / (T_gdf_clean.TAVG + 273)) * u2 * (e_s - e_a)) / (slope_vp + psy * (1+0.34*u2))"
   ]
  }
 ],
 "metadata": {
  "kernelspec": {
   "display_name": "Python 3",
   "language": "python",
   "name": "python3"
  },
  "language_info": {
   "codemirror_mode": {
    "name": "ipython",
    "version": 3
   },
   "file_extension": ".py",
   "mimetype": "text/x-python",
   "name": "python",
   "nbconvert_exporter": "python",
   "pygments_lexer": "ipython3",
   "version": "3.7.3"
  }
 },
 "nbformat": 4,
 "nbformat_minor": 4
}
